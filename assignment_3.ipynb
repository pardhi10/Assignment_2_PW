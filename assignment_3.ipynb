{
 "cells": [
  {
   "cell_type": "code",
   "execution_count": 1,
   "id": "a7bf1536-108a-48fb-a082-40a8e877d574",
   "metadata": {},
   "outputs": [
    {
     "name": "stdout",
     "output_type": "stream",
     "text": [
      "[('Sachin Tendulkar', 34357), ('Ricky Ponting', 27483), ('Jack Kallis', 25534), ('Virat Kohli', 24936)]\n"
     ]
    }
   ],
   "source": [
    "#    Q1.  Create a python program to sort the given list of tuples based on integer value using a lambda function.\n",
    "#      [('Sachin Tendulkar', 34357), ('Ricky Ponting', 27483), ('Jack Kallis', 25534), ('Virat Kohli', 24936)]\n",
    "\n",
    "li=[('Sachin Tendulkar', 34357), ('Ricky Ponting', 27483), ('Jack Kallis', 25534), ('Virat Kohli', 24936)]\n",
    "li.sort(key=lambda x:x[1],reverse=True)\n",
    "print(li)"
   ]
  },
  {
   "cell_type": "code",
   "execution_count": 5,
   "id": "b29e21d6-62a9-48bb-a3d2-e32b7251f7b2",
   "metadata": {},
   "outputs": [
    {
     "name": "stdout",
     "output_type": "stream",
     "text": [
      "[1, 4, 9, 16, 25, 36, 49, 64, 81, 100]\n"
     ]
    }
   ],
   "source": [
    "#      Q2.  Write a Python Program to find the squares of all the numbers in the given list of integers using lambda and map functions.\n",
    "#           [1, 2, 3, 4, 5, 6, 7, 8, 9, 10]\n",
    "li=[1, 2, 3, 4, 5, 6, 7, 8, 9, 10]\n",
    "square=list(map(lambda x:x**2,li))                   # Here we typecast because map will provide map formet which can not print the output \n",
    "print(square)"
   ]
  },
  {
   "cell_type": "code",
   "execution_count": 25,
   "id": "f1ddf930-ef72-4104-8e36-2078f877b19e",
   "metadata": {},
   "outputs": [
    {
     "name": "stdout",
     "output_type": "stream",
     "text": [
      "('1', '2', '3', '4', '5', '6', '7', '8', '9', '10')\n"
     ]
    }
   ],
   "source": [
    "#       Q3. Write a python program to convert the given list of integers into a tuple of strings. Use map and lambda functions \n",
    "#           Given String: [1, 2, 3, 4, 5, 6, 7, 8, 9, 10]\n",
    "#           Expected output: ('1', '2', '3', '4', '5', '6', '7', '8', '9', '10')\n",
    "li_in=[1, 2, 3, 4, 5, 6, 7, 8, 9, 10]\n",
    "li_st=[]\n",
    "st= tuple(map(lambda x:str(x),li_in))\n",
    "print(st)    \n",
    "\n",
    "#  here this give the values one by one we can directly convert by using lambda only but it give output like \"(1,2,3,4,5,6,7,8,9,10)\" \n",
    "#   but for required output we need map which gives the li_in list in one by one manner.\n",
    "    \n",
    "    \n",
    "    "
   ]
  },
  {
   "cell_type": "code",
   "execution_count": 79,
   "id": "a7563e42-9df0-4001-b3c2-397d9ff7d9b4",
   "metadata": {},
   "outputs": [
    {
     "name": "stdout",
     "output_type": "stream",
     "text": [
      "15511210043330985984000000\n"
     ]
    }
   ],
   "source": [
    "#   Write a python program using reduce function to compute the product of a list containing numbersfrom 1 to 25.\n",
    "from functools import reduce\n",
    "li=[1,2,3,4,5,6,7,8,9,10,11,12,13,14,15,16,17,18,19,20,21,22,23,24,25]\n",
    "a=1\n",
    "def pro(lp):\n",
    " global a\n",
    " a=a*lp\n",
    " return a   \n",
    "a=list(map(pro,li))\n",
    "print (a[24])\n",
    "\n",
    "\n",
    "\n"
   ]
  },
  {
   "cell_type": "code",
   "execution_count": 92,
   "id": "d5f76271-9110-4396-803f-5f1af92cafbb",
   "metadata": {},
   "outputs": [
    {
     "name": "stdout",
     "output_type": "stream",
     "text": [
      " \"\".join function join like:\" pythonphpabaradarlevel\n",
      "['php', 'aba', 'radar', 'level']\n"
     ]
    }
   ],
   "source": [
    "# Filter function usage. \n",
    "\n",
    "li=['python', 'php', 'aba', 'radar', 'level']\n",
    "j=\"\".join(li)\n",
    "print(' \"\".join function join like:\"',j)\n",
    "is_palindrome=list(filter(lambda x: x== \"\".join(x[::-1]), li))\n",
    "print(is_palindrome)\n",
    "\n",
    "\n",
    "\n",
    "\n",
    "\n",
    "# this   \"\".join function is join al, the sytring of list as \"pythonphpaba\""
   ]
  },
  {
   "cell_type": "code",
   "execution_count": 98,
   "id": "2798e93e-38d9-4acf-90ce-71e11c0ce949",
   "metadata": {},
   "outputs": [
    {
     "ename": "SyntaxError",
     "evalue": "invalid syntax (1087345440.py, line 4)",
     "output_type": "error",
     "traceback": [
      "\u001b[0;36m  Cell \u001b[0;32mIn[98], line 4\u001b[0;36m\u001b[0m\n\u001b[0;31m    ass=list(filter(lambda x:,x%2 Or x%3==0,li))\u001b[0m\n\u001b[0m                             ^\u001b[0m\n\u001b[0;31mSyntaxError\u001b[0m\u001b[0;31m:\u001b[0m invalid syntax\n"
     ]
    }
   ],
   "source": [
    "#   Q5. Write a python program to filter the numbers in a given list that are divisible by 2 and 3 using thefilter function.\n",
    "\n",
    "li=[2, 3, 6, 9, 27, 60, 90, 120, 55, 46]\n",
    "ass=list(filter(lambda x:x%2  x%3==0,li))\n",
    "print(ass)"
   ]
  },
  {
   "cell_type": "code",
   "execution_count": null,
   "id": "ef6a0a43-a20f-46b6-857e-d42a6783d23a",
   "metadata": {},
   "outputs": [],
   "source": []
  },
  {
   "cell_type": "code",
   "execution_count": null,
   "id": "0960706e-f1b6-4706-92d9-842ce6716018",
   "metadata": {},
   "outputs": [],
   "source": []
  }
 ],
 "metadata": {
  "kernelspec": {
   "display_name": "Python 3 (ipykernel)",
   "language": "python",
   "name": "python3"
  },
  "language_info": {
   "codemirror_mode": {
    "name": "ipython",
    "version": 3
   },
   "file_extension": ".py",
   "mimetype": "text/x-python",
   "name": "python",
   "nbconvert_exporter": "python",
   "pygments_lexer": "ipython3",
   "version": "3.10.8"
  }
 },
 "nbformat": 4,
 "nbformat_minor": 5
}
